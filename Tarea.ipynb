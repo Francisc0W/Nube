{
  "nbformat": 4,
  "nbformat_minor": 0,
  "metadata": {
    "colab": {
      "provenance": [],
      "authorship_tag": "ABX9TyPIeqlljT4C1+QQwlAp6yTB",
      "include_colab_link": true
    },
    "kernelspec": {
      "name": "python3",
      "display_name": "Python 3"
    },
    "language_info": {
      "name": "python"
    }
  },
  "cells": [
    {
      "cell_type": "markdown",
      "metadata": {
        "id": "view-in-github",
        "colab_type": "text"
      },
      "source": [
        "<a href=\"https://colab.research.google.com/github/Francisc0W/Nube/blob/main/Tarea.ipynb\" target=\"_parent\"><img src=\"https://colab.research.google.com/assets/colab-badge.svg\" alt=\"Open In Colab\"/></a>"
      ]
    },
    {
      "cell_type": "markdown",
      "source": [
        "Hay un total de 25 puntos posibles para este proyecto final.\n",
        "\n",
        "Su calificación se basará en los siguientes Ejercicios:\n",
        "\n",
        "Ejercicio 2 - Cree una celda markdown con el título del cuaderno. (1 pto)\n",
        "\n",
        "Ejercicio 3 - Cree una celda markdown para una introducción. (1 pto)\n",
        "\n",
        "Ejercicio 4 - Cree una celda markdown para enumerar los lenguajes de la ciencia de datos. (3 ptos)\n",
        "\n",
        "Ejercicio 5 - Cree una celda markdown para listar bibliotecas de ciencia de datos. (3 ptos)\n",
        "\n",
        "Ejercicio 6 - Cree una celda markdown con una tabla de herramientas de Ciencia de Datos. (3 ptos)\n",
        "\n",
        "Ejercicio 7 - Cree una celda markdown introduciendo ejemplos de expresiones aritméticas. (1 pto)\n",
        "\n",
        "Ejercicio 8 - Cree una celda de códigopara multiplicar y sumar números. (2 ptos)\n",
        "\n",
        "Ejercicio 9 - Cree una celda de código para convertir minutos en horas. (2 ptos)\n",
        "\n",
        "Ejercicio 10 -Inserte una celda de código para listar Objetivos. (3 pts)\n",
        "\n",
        "Ejercicio 11 - Cree una celda markdown para indicar el nombre del Autor. (2 ptos)\n",
        "\n",
        "Ejercicio 12 - Comparta su cuaderno a través de GitHub (3 pts)\n",
        "\n",
        "Ejercicio 13 - Haga una captura de pantalla de la primera página del cuaderno. (1 pto)"
      ],
      "metadata": {
        "id": "ZFohIrhtLkzR"
      }
    },
    {
      "cell_type": "markdown",
      "source": [
        "# Título del Cuaderno: Introducción a la Ciencia de Datos\n"
      ],
      "metadata": {
        "id": "-XbKxVQSLpYZ"
      }
    },
    {
      "cell_type": "markdown",
      "source": [
        "## Introducción\n",
        "\n",
        "En este cuaderno exploraremos conceptos fundamentales de la Ciencia de Datos, tales como lenguajes, bibliotecas y herramientas utilizadas en el procesamiento y análisis de datos. También veremos ejemplos de operaciones aritméticas básicas y cómo convertir unidades de tiempo.\n"
      ],
      "metadata": {
        "id": "IgEUYZR4MbQl"
      }
    },
    {
      "cell_type": "markdown",
      "source": [
        "## Lenguajes de la Ciencia de Datos\n",
        "\n",
        "Los principales lenguajes utilizados en la Ciencia de Datos son:\n",
        "\n",
        "1. **Python**: Uno de los lenguajes más populares para el análisis de datos.\n",
        "2. **R**: Especialmente usado para análisis estadístico.\n",
        "3. **SQL**: Lenguaje de consulta estructurado para bases de datos.\n",
        "4. **Julia**: Lenguaje utilizado en cálculos numéricos y científicos.\n",
        "5. **Scala**: Usado para procesamiento de datos a gran escala, especialmente en plataformas como Apache Spark.\n"
      ],
      "metadata": {
        "id": "81hybBEOMeFn"
      }
    },
    {
      "cell_type": "markdown",
      "source": [
        "## Bibliotecas de Ciencia de Datos\n",
        "\n",
        "Las siguientes son algunas de las bibliotecas más utilizadas en la Ciencia de Datos:\n",
        "\n",
        "1. **Pandas**: Manipulación y análisis de datos en estructuras de datos como DataFrames.\n",
        "2. **NumPy**: Operaciones numéricas y matrices multidimensionales.\n",
        "3. **Matplotlib**: Generación de gráficos estáticos.\n",
        "4. **Seaborn**: Visualización de datos estadísticos basada en Matplotlib.\n",
        "5. **Scikit-learn**: Algoritmos de aprendizaje automático y minería de datos.\n",
        "6. **TensorFlow**: Framework de aprendizaje automático y redes neuronales profundas.\n",
        "7. **Keras**: API de alto nivel para construir modelos de aprendizaje profundo.\n"
      ],
      "metadata": {
        "id": "wUPqhHuIMd0e"
      }
    },
    {
      "cell_type": "markdown",
      "source": [
        "## Herramientas de Ciencia de Datos\n",
        "\n",
        "| Herramienta       | Descripción                                           | Uso Principal                        |\n",
        "|-------------------|-------------------------------------------------------|--------------------------------------|\n",
        "| Jupyter Notebooks | Entorno interactivo basado en web para trabajar con Python y R | Desarrollo de proyectos y análisis interactivo |\n",
        "| GitHub            | Plataforma de alojamiento de código y control de versiones | Control de versiones y colaboración |\n",
        "| Tableau           | Herramienta de visualización de datos                | Visualización de datos               |\n",
        "| Apache Hadoop     | Framework para el procesamiento distribuido de grandes volúmenes de datos | Procesamiento de Big Data            |\n",
        "| Apache Spark      | Framework para el procesamiento de datos en memoria y a gran escala | Procesamiento y análisis de Big Data |\n"
      ],
      "metadata": {
        "id": "eHa8UIuFMkWZ"
      }
    },
    {
      "cell_type": "markdown",
      "source": [
        "## Ejemplos de Expresiones Aritméticas\n",
        "\n",
        "En Python, las expresiones aritméticas básicas incluyen:\n",
        "\n",
        "- **Suma**: `2 + 3`\n",
        "- **Resta**: `5 - 2`\n",
        "- **Multiplicación**: `4 * 6`\n",
        "- **División**: `10 / 2`\n",
        "- **Potencia**: `2 ** 3`\n",
        "- **Módulo (resto)**: `7 % 3`\n"
      ],
      "metadata": {
        "id": "tl0ZmSp-MktJ"
      }
    },
    {
      "cell_type": "code",
      "source": [
        "# Código para multiplicar y sumar números\n",
        "numero1 = 5\n",
        "numero2 = 3\n",
        "\n",
        "# Suma\n",
        "suma = numero1 + numero2\n",
        "print(\"La suma es:\", suma)\n",
        "\n",
        "# Multiplicación\n",
        "multiplicacion = numero1 * numero2\n",
        "print(\"La multiplicación es:\", multiplicacion)\n"
      ],
      "metadata": {
        "colab": {
          "base_uri": "https://localhost:8080/"
        },
        "id": "jmvuLAwJMwnO",
        "outputId": "b341ce9a-6990-4c62-c41f-691bd2961a21"
      },
      "execution_count": 2,
      "outputs": [
        {
          "output_type": "stream",
          "name": "stdout",
          "text": [
            "La suma es: 8\n",
            "La multiplicación es: 15\n"
          ]
        }
      ]
    },
    {
      "cell_type": "code",
      "source": [
        "# Código para convertir minutos en horas\n",
        "minutos = 150\n",
        "horas = minutos / 60\n",
        "print(f\"{minutos} minutos son {horas} horas.\")\n"
      ],
      "metadata": {
        "colab": {
          "base_uri": "https://localhost:8080/"
        },
        "id": "X3EcNIiuM0FZ",
        "outputId": "01173e54-ca92-4657-8533-c6af314ee358"
      },
      "execution_count": 3,
      "outputs": [
        {
          "output_type": "stream",
          "name": "stdout",
          "text": [
            "150 minutos son 2.5 horas.\n"
          ]
        }
      ]
    },
    {
      "cell_type": "code",
      "source": [
        "# Listado de Objetivos\n",
        "objetivos = [\n",
        "    \"Aprender los conceptos fundamentales de la Ciencia de Datos.\",\n",
        "    \"Familiarizarse con las bibliotecas y herramientas más utilizadas.\",\n",
        "    \"Aplicar operaciones aritméticas básicas en programación.\",\n",
        "    \"Trabajar con datos y realizar conversiones entre unidades.\"\n",
        "]\n",
        "\n",
        "# Imprimir los objetivos\n",
        "for objetivo in objetivos:\n",
        "    print(objetivo)\n"
      ],
      "metadata": {
        "colab": {
          "base_uri": "https://localhost:8080/"
        },
        "id": "9xK-RH49M5mF",
        "outputId": "b05b1074-13f0-4d02-bd8f-e38855904547"
      },
      "execution_count": 4,
      "outputs": [
        {
          "output_type": "stream",
          "name": "stdout",
          "text": [
            "Aprender los conceptos fundamentales de la Ciencia de Datos.\n",
            "Familiarizarse con las bibliotecas y herramientas más utilizadas.\n",
            "Aplicar operaciones aritméticas básicas en programación.\n",
            "Trabajar con datos y realizar conversiones entre unidades.\n"
          ]
        }
      ]
    },
    {
      "cell_type": "markdown",
      "source": [
        "## Autor\n",
        "\n",
        "Este cuaderno fue creado por: **Francisco Wustner**\n"
      ],
      "metadata": {
        "id": "5tnGnb0fMpPI"
      }
    }
  ]
}